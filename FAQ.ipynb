{
 "cells": [
  {
   "cell_type": "code",
   "execution_count": 1,
   "metadata": {},
   "outputs": [],
   "source": [
    "from bs4 import BeautifulSoup\n",
    "import requests\n",
    "from tqdm import tqdm\n",
    "from time import sleep\n",
    "from selenium import webdriver\n",
    "import numpy as np\n",
    "import pandas as pd\n",
    "import os"
   ]
  },
  {
   "cell_type": "code",
   "execution_count": 3,
   "metadata": {},
   "outputs": [],
   "source": [
    "allurlsdf = pd.read_csv('allurls.csv')\n",
    "finalurls = allurlsdf[:40000]\n",
    "finalurlslist = finalurls.values.tolist()"
   ]
  },
  {
   "cell_type": "code",
   "execution_count": 4,
   "metadata": {},
   "outputs": [],
   "source": [
    "# extracting information for one drug\n",
    "options = webdriver.ChromeOptions()\n",
    "options.add_argument(\"--headless\")\n",
    "options.add_argument(\"--disable-gpu\")\n",
    "driver = webdriver.Chrome(options = options)\n",
    "driver.get(finalurlslist[0][0])\n",
    "medsite = driver.page_source\n",
    "medsoup = BeautifulSoup(medsite)\n",
    "#medsoup\n",
    "driver.close()"
   ]
  },
  {
   "cell_type": "code",
   "execution_count": 11,
   "metadata": {},
   "outputs": [
    {
     "name": "stdout",
     "output_type": "stream",
     "text": [
      "Can I take Fadine 40 Tablet empty stomach?\n",
      "How long does it take for Fadine 40 Tablet to start working?\n",
      "What is the difference between Fadine 40 Tablet and Omeprazole?\n",
      "What are the serious side effects of Fadine 40 Tablet?\n",
      "What are the dos and don’ts while taking Fadine 40 Tablet?\n",
      "Is Fadine 40 Tablet safe for long-term use?\n"
     ]
    }
   ],
   "source": [
    "for question in medsoup.find_all('h3', class_='Faqs__ques___1iPB9'):\n",
    "    print(question.text[3:])"
   ]
  },
  {
   "cell_type": "code",
   "execution_count": 14,
   "metadata": {},
   "outputs": [
    {
     "name": "stdout",
     "output_type": "stream",
     "text": [
      "Fadine 40 Tablet may be taken with or without food. It can be taken once daily before bedtime or twice daily in the morning and before bedtime, as recommended.\n",
      "Fadine 40 Tablet starts working as fast as within 15 minutes from when it is given. Its effect is seen to last all day or all night.\n",
      "Fadine 40 Tablet and Omeprazole belong to different groups of medicines. While Fadine 40 Tablet belongs to histamine H2 antagonists group, Omeprazole belongs to proton pump inhibitors group. Both these medicines work by reducing the amount of acid made by the stomach, to relieve the symptoms and allow healing.\n",
      "Fadine 40 Tablet may have some serious side effects, but these are rare. These side effects may include hives, skin rash, itching, hoarseness and difficulty in breathing or swallowing. Another serious symptom may be swelling of the face, throat, tongue, lips, eyes, hands, feet, ankles, or lower legs. Inform your doctor in case you notice any of the mentioned symptoms.\n",
      "Avoid taking aspirin and other painkillers used to treat arthritis, period pain or headache. These medicines may irritate the stomach and make your condition worse. Contact your doctor who may suggest other medicines. Avoid coffee, tea, cocoa and cola drinks because these contain ingredients that may irritate your stomach. Eat smaller, more frequent meals. Eat slowly and chew your food carefully. Try not to rush at meal times. You should stop or cut down on smoking.\n",
      "There is limited data available on whether Fadine 40 Tablet can be used for a long term or not, but it is a relatively safe medicine. You should take it for the duration advised by your doctor. Do not take over-the-counter Fadine 40 Tablet for longer than 2 weeks unless advised by your doctor.\n"
     ]
    }
   ],
   "source": [
    "for answer in medsoup.find_all('div', class_ = 'Faqs__ans___1uuIW'):\n",
    "    print(answer.text)"
   ]
  },
  {
   "cell_type": "code",
   "execution_count": null,
   "metadata": {},
   "outputs": [],
   "source": []
  },
  {
   "cell_type": "code",
   "execution_count": null,
   "metadata": {},
   "outputs": [],
   "source": [
    "N = 1000\n",
    "\n",
    "options = webdriver.ChromeOptions()\n",
    "options.add_argument(\"--headless\")\n",
    "options.add_argument(\"--disable-gpu\")\n",
    "\n",
    "for i in tqdm(range(N)[429:]):\n",
    "\n",
    "    driver = webdriver.Chrome(options = options)\n",
    "    driver.get(finalurlslist[i][0])\n",
    "    medsite = driver.page_source\n",
    "    medsoup = BeautifulSoup(medsite)\n",
    "    driver.close()\n",
    "\n",
    "    try:\n",
    "        name = medsoup.find('h1', {'class':\"DrugHeader__title-content___2ZaPo\"}).text\n",
    "    except:\n",
    "        continue\n",
    "    filename = name+'.csv'\n",
    "    clean_filename = filename.replace('/', ' ')\n",
    "    dir_path = 'D:\\\\medbot\\\\medicineDataset'\n",
    "    medpath = os.path.join(dir_path, clean_filename)\n",
    "\n",
    "    allcontent = medsoup.find_all('div', class_='DrugOverview__content___22ZBX')\n",
    "    contentlist = []\n",
    "\n",
    "    for content in allcontent:\n",
    "        contentlist.append(content.text)\n",
    "\n",
    "    with open(medpath, \"w\") as file:\n",
    "        file.write(\"Name of the medicine: \"+name+\"\\n\")\n",
    "        for content in contentlist:\n",
    "            file.write(content+\"\\n\")\n",
    "\n",
    "    sleep(1)"
   ]
  }
 ],
 "metadata": {
  "kernelspec": {
   "display_name": "botenv",
   "language": "python",
   "name": "python3"
  },
  "language_info": {
   "codemirror_mode": {
    "name": "ipython",
    "version": 3
   },
   "file_extension": ".py",
   "mimetype": "text/x-python",
   "name": "python",
   "nbconvert_exporter": "python",
   "pygments_lexer": "ipython3",
   "version": "3.11.5"
  },
  "orig_nbformat": 4
 },
 "nbformat": 4,
 "nbformat_minor": 2
}
