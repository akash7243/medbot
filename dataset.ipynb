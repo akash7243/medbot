{
 "cells": [
  {
   "cell_type": "code",
   "execution_count": 2,
   "id": "0f2d36e6-f620-4a35-b3ea-f72617cb0a25",
   "metadata": {},
   "outputs": [],
   "source": [
    "from bs4 import BeautifulSoup\n",
    "import requests\n",
    "from tqdm import tqdm\n",
    "from time import sleep\n",
    "from selenium import webdriver\n",
    "import numpy as np\n",
    "import pandas as pd\n",
    "import os"
   ]
  },
  {
   "cell_type": "markdown",
   "id": "6b12c6a2-53ba-4244-b23d-bc9e7dfefbeb",
   "metadata": {},
   "source": [
    "### Extract medicine URLs from sitemap"
   ]
  },
  {
   "cell_type": "code",
   "execution_count": 2,
   "id": "b379ca6b-dcda-4ff0-9990-20e3da1f2a74",
   "metadata": {},
   "outputs": [
    {
     "name": "stderr",
     "output_type": "stream",
     "text": [
      "D:\\medbot\\medbotenv\\Lib\\site-packages\\bs4\\builder\\__init__.py:545: XMLParsedAsHTMLWarning: It looks like you're parsing an XML document using an HTML parser. If this really is an HTML document (maybe it's XHTML?), you can ignore or filter this warning. If it's XML, you should know that using an XML parser will be more reliable. To parse this document as XML, make sure you have the lxml package installed, and pass the keyword argument `features=\"xml\"` into the BeautifulSoup constructor.\n",
      "  warnings.warn(\n"
     ]
    }
   ],
   "source": [
    "from bs4 import BeautifulSoup\n",
    "import requests\n",
    "\n",
    "xmlDict = {}\n",
    "r = requests.get(\"https://www.1mg.com/sitemap.xml\")\n",
    "sitemapxml = r.text\n",
    "\n",
    "sitedata = BeautifulSoup(sitemapxml, 'lxml')\n",
    "# sitedata"
   ]
  },
  {
   "cell_type": "code",
   "execution_count": 3,
   "id": "66224e3b-1206-4baf-b0b6-bfa89476366a",
   "metadata": {
    "scrolled": true
   },
   "outputs": [
    {
     "data": {
      "text/plain": [
       "[<loc>https://www.1mg.com/sitemap_drugs_1.xml</loc>,\n",
       " <loc>https://www.1mg.com/sitemap_drugs_2.xml</loc>,\n",
       " <loc>https://www.1mg.com/sitemap_drugs_3.xml</loc>,\n",
       " <loc>https://www.1mg.com/sitemap_drugs_4.xml</loc>,\n",
       " <loc>https://www.1mg.com/sitemap_drugs_5.xml</loc>,\n",
       " <loc>https://www.1mg.com/sitemap_drugs_6.xml</loc>,\n",
       " <loc>https://www.1mg.com/sitemap_drugs_7.xml</loc>,\n",
       " <loc>https://www.1mg.com/sitemap_drugs_8.xml</loc>,\n",
       " <loc>https://www.1mg.com/sitemap_drugs_9.xml</loc>,\n",
       " <loc>https://www.1mg.com/sitemap_drugs_10.xml</loc>,\n",
       " <loc>https://www.1mg.com/sitemap_drugs_11.xml</loc>,\n",
       " <loc>https://www.1mg.com/sitemap_drugs_12.xml</loc>,\n",
       " <loc>https://www.1mg.com/sitemap_drugs_13.xml</loc>,\n",
       " <loc>https://www.1mg.com/sitemap_drugs_14.xml</loc>,\n",
       " <loc>https://www.1mg.com/sitemap_drugs_15.xml</loc>,\n",
       " <loc>https://www.1mg.com/sitemap_drugs_16.xml</loc>,\n",
       " <loc>https://www.1mg.com/sitemap_drugs_17.xml</loc>,\n",
       " <loc>https://www.1mg.com/sitemap_drugs_18.xml</loc>,\n",
       " <loc>https://www.1mg.com/sitemap_drugs_19.xml</loc>,\n",
       " <loc>https://www.1mg.com/sitemap_drugs_20.xml</loc>,\n",
       " <loc>https://www.1mg.com/sitemap_drugs_21.xml</loc>,\n",
       " <loc>https://www.1mg.com/sitemap_drugs_22.xml</loc>,\n",
       " <loc>https://www.1mg.com/sitemap_drugs_23.xml</loc>,\n",
       " <loc>https://www.1mg.com/sitemap_drugs_24.xml</loc>,\n",
       " <loc>https://www.1mg.com/sitemap_drugs_25.xml</loc>,\n",
       " <loc>https://www.1mg.com/sitemap_drugs_26.xml</loc>,\n",
       " <loc>https://www.1mg.com/sitemap_drugs_27.xml</loc>,\n",
       " <loc>https://www.1mg.com/sitemap_drugs_28.xml</loc>,\n",
       " <loc>https://www.1mg.com/sitemap_drugs_29.xml</loc>,\n",
       " <loc>https://www.1mg.com/sitemap_drugs_30.xml</loc>,\n",
       " <loc>https://www.1mg.com/sitemap_drugs_31.xml</loc>,\n",
       " <loc>https://www.1mg.com/sitemap_otc_1.xml</loc>,\n",
       " <loc>https://www.1mg.com/sitemap_otc_2.xml</loc>,\n",
       " <loc>https://www.1mg.com/sitemap_otc_3.xml</loc>,\n",
       " <loc>https://www.1mg.com/sitemap_otc_4.xml</loc>,\n",
       " <loc>https://www.1mg.com/sitemap_otc_5.xml</loc>,\n",
       " <loc>https://www.1mg.com/sitemap_otc_6.xml</loc>,\n",
       " <loc>https://www.1mg.com/sitemap_otc_7.xml</loc>,\n",
       " <loc>https://www.1mg.com/sitemap_otc_8.xml</loc>,\n",
       " <loc>https://www.1mg.com/sitemap_otc_9.xml</loc>,\n",
       " <loc>https://www.1mg.com/sitemap_otc_10.xml</loc>,\n",
       " <loc>https://www.1mg.com/sitemap_otc_11.xml</loc>,\n",
       " <loc>https://www.1mg.com/sitemap_otc_12.xml</loc>,\n",
       " <loc>https://www.1mg.com/sitemap_otc_13.xml</loc>,\n",
       " <loc>https://www.1mg.com/sitemap_otc_14.xml</loc>,\n",
       " <loc>https://www.1mg.com/sitemap_otc_15.xml</loc>,\n",
       " <loc>https://www.1mg.com/sitemap_otc_16.xml</loc>,\n",
       " <loc>https://www.1mg.com/sitemap_otc_17.xml</loc>,\n",
       " <loc>https://www.1mg.com/sitemap_otc_18.xml</loc>,\n",
       " <loc>https://www.1mg.com/sitemap_otc_19.xml</loc>,\n",
       " <loc>https://www.1mg.com/sitemap_otc_20.xml</loc>,\n",
       " <loc>https://www.1mg.com/sitemap_otc_21.xml</loc>,\n",
       " <loc>https://www.1mg.com/sitemap_otc_22.xml</loc>,\n",
       " <loc>https://www.1mg.com/sitemap_otc_23.xml</loc>,\n",
       " <loc>https://www.1mg.com/sitemap_otc_24.xml</loc>,\n",
       " <loc>https://www.1mg.com/sitemap_otc_25.xml</loc>,\n",
       " <loc>https://www.1mg.com/sitemap_hi_drugs_1.xml</loc>,\n",
       " <loc>https://www.1mg.com/sitemap_hi_drugs_2.xml</loc>,\n",
       " <loc>https://www.1mg.com/sitemap_hi_drugs_3.xml</loc>,\n",
       " <loc>https://www.1mg.com/sitemap_hi_drugs_4.xml</loc>,\n",
       " <loc>https://www.1mg.com/sitemap_hi_drugs_5.xml</loc>,\n",
       " <loc>https://www.1mg.com/sitemap_hi_drugs_6.xml</loc>,\n",
       " <loc>https://www.1mg.com/sitemap_hi_drugs_7.xml</loc>,\n",
       " <loc>https://www.1mg.com/sitemap_hi_drugs_8.xml</loc>,\n",
       " <loc>https://www.1mg.com/sitemap_hi_drugs_9.xml</loc>,\n",
       " <loc>https://www.1mg.com/sitemap_hi_drugs_10.xml</loc>,\n",
       " <loc>https://www.1mg.com/sitemap_hi_drugs_11.xml</loc>,\n",
       " <loc>https://www.1mg.com/sitemap_hi_drugs_12.xml</loc>,\n",
       " <loc>https://www.1mg.com/sitemap_hi_drugs_13.xml</loc>,\n",
       " <loc>https://www.1mg.com/sitemap_hi_drugs_14.xml</loc>,\n",
       " <loc>https://www.1mg.com/sitemap_hi_drugs_15.xml</loc>,\n",
       " <loc>https://www.1mg.com/sitemap_hi_drugs_16.xml</loc>,\n",
       " <loc>https://www.1mg.com/sitemap_hi_drugs_17.xml</loc>,\n",
       " <loc>https://www.1mg.com/sitemap_hi_drugs_18.xml</loc>,\n",
       " <loc>https://www.1mg.com/sitemap_hi_drugs_19.xml</loc>,\n",
       " <loc>https://www.1mg.com/sitemap_hi_drugs_20.xml</loc>,\n",
       " <loc>https://www.1mg.com/sitemap_hi_drugs_21.xml</loc>,\n",
       " <loc>https://www.1mg.com/sitemap_hi_drugs_22.xml</loc>,\n",
       " <loc>https://www.1mg.com/sitemap_hi_drugs_23.xml</loc>,\n",
       " <loc>https://www.1mg.com/sitemap_hi_drugs_24.xml</loc>,\n",
       " <loc>https://www.1mg.com/sitemap_hi_drugs_25.xml</loc>,\n",
       " <loc>https://www.1mg.com/sitemap_hi_drugs_26.xml</loc>,\n",
       " <loc>https://www.1mg.com/sitemap_hi_drugs_27.xml</loc>,\n",
       " <loc>https://www.1mg.com/sitemap_hi_drugs_28.xml</loc>,\n",
       " <loc>https://www.1mg.com/sitemap_hi_drugs_29.xml</loc>,\n",
       " <loc>https://www.1mg.com/sitemap_hi_drugs_30.xml</loc>,\n",
       " <loc>https://www.1mg.com/sitemap_hi_drugs_31.xml</loc>,\n",
       " <loc>https://www.1mg.com/sitemap_generics_1.xml</loc>,\n",
       " <loc>https://www.1mg.com/sitemap_hi_generics_1.xml</loc>,\n",
       " <loc>https://www.1mg.com/sitemap_diseases_1.xml</loc>,\n",
       " <loc>https://www.1mg.com/sitemap_ayurveda_1.xml</loc>,\n",
       " <loc>https://www.1mg.com/sitemap_categories_1.xml</loc>,\n",
       " <loc>https://www.1mg.com/sitemap_miscellaneous_1.xml</loc>]"
      ]
     },
     "execution_count": 3,
     "metadata": {},
     "output_type": "execute_result"
    }
   ],
   "source": [
    "locations = sitedata.find_all(\"loc\")\n",
    "locations"
   ]
  },
  {
   "cell_type": "code",
   "execution_count": 4,
   "id": "b04c4c03-39d5-4057-9e38-b49e9913e860",
   "metadata": {},
   "outputs": [],
   "source": [
    "# list of URLs\n",
    "urls = []\n",
    "for loc in locations:\n",
    "    strloc = str(loc)\n",
    "    urls.append(strloc[5:len(strloc)-6])"
   ]
  },
  {
   "cell_type": "code",
   "execution_count": 5,
   "id": "bed828f4-b2f5-42a1-9778-f89d990a514d",
   "metadata": {},
   "outputs": [
    {
     "data": {
      "text/plain": [
       "['https://www.1mg.com/sitemap_drugs_1.xml',\n",
       " 'https://www.1mg.com/sitemap_drugs_2.xml',\n",
       " 'https://www.1mg.com/sitemap_drugs_3.xml',\n",
       " 'https://www.1mg.com/sitemap_drugs_4.xml',\n",
       " 'https://www.1mg.com/sitemap_drugs_5.xml',\n",
       " 'https://www.1mg.com/sitemap_drugs_6.xml',\n",
       " 'https://www.1mg.com/sitemap_drugs_7.xml',\n",
       " 'https://www.1mg.com/sitemap_drugs_8.xml',\n",
       " 'https://www.1mg.com/sitemap_drugs_9.xml',\n",
       " 'https://www.1mg.com/sitemap_drugs_10.xml',\n",
       " 'https://www.1mg.com/sitemap_drugs_11.xml',\n",
       " 'https://www.1mg.com/sitemap_drugs_12.xml',\n",
       " 'https://www.1mg.com/sitemap_drugs_13.xml',\n",
       " 'https://www.1mg.com/sitemap_drugs_14.xml',\n",
       " 'https://www.1mg.com/sitemap_drugs_15.xml',\n",
       " 'https://www.1mg.com/sitemap_drugs_16.xml',\n",
       " 'https://www.1mg.com/sitemap_drugs_17.xml',\n",
       " 'https://www.1mg.com/sitemap_drugs_18.xml',\n",
       " 'https://www.1mg.com/sitemap_drugs_19.xml',\n",
       " 'https://www.1mg.com/sitemap_drugs_20.xml',\n",
       " 'https://www.1mg.com/sitemap_drugs_21.xml',\n",
       " 'https://www.1mg.com/sitemap_drugs_22.xml',\n",
       " 'https://www.1mg.com/sitemap_drugs_23.xml',\n",
       " 'https://www.1mg.com/sitemap_drugs_24.xml',\n",
       " 'https://www.1mg.com/sitemap_drugs_25.xml',\n",
       " 'https://www.1mg.com/sitemap_drugs_26.xml',\n",
       " 'https://www.1mg.com/sitemap_drugs_27.xml',\n",
       " 'https://www.1mg.com/sitemap_drugs_28.xml',\n",
       " 'https://www.1mg.com/sitemap_drugs_29.xml',\n",
       " 'https://www.1mg.com/sitemap_drugs_30.xml',\n",
       " 'https://www.1mg.com/sitemap_drugs_31.xml',\n",
       " 'https://www.1mg.com/sitemap_otc_1.xml',\n",
       " 'https://www.1mg.com/sitemap_otc_2.xml',\n",
       " 'https://www.1mg.com/sitemap_otc_3.xml',\n",
       " 'https://www.1mg.com/sitemap_otc_4.xml',\n",
       " 'https://www.1mg.com/sitemap_otc_5.xml',\n",
       " 'https://www.1mg.com/sitemap_otc_6.xml',\n",
       " 'https://www.1mg.com/sitemap_otc_7.xml',\n",
       " 'https://www.1mg.com/sitemap_otc_8.xml',\n",
       " 'https://www.1mg.com/sitemap_otc_9.xml',\n",
       " 'https://www.1mg.com/sitemap_otc_10.xml',\n",
       " 'https://www.1mg.com/sitemap_otc_11.xml',\n",
       " 'https://www.1mg.com/sitemap_otc_12.xml',\n",
       " 'https://www.1mg.com/sitemap_otc_13.xml',\n",
       " 'https://www.1mg.com/sitemap_otc_14.xml',\n",
       " 'https://www.1mg.com/sitemap_otc_15.xml',\n",
       " 'https://www.1mg.com/sitemap_otc_16.xml',\n",
       " 'https://www.1mg.com/sitemap_otc_17.xml',\n",
       " 'https://www.1mg.com/sitemap_otc_18.xml',\n",
       " 'https://www.1mg.com/sitemap_otc_19.xml',\n",
       " 'https://www.1mg.com/sitemap_otc_20.xml',\n",
       " 'https://www.1mg.com/sitemap_otc_21.xml',\n",
       " 'https://www.1mg.com/sitemap_otc_22.xml',\n",
       " 'https://www.1mg.com/sitemap_otc_23.xml',\n",
       " 'https://www.1mg.com/sitemap_otc_24.xml',\n",
       " 'https://www.1mg.com/sitemap_otc_25.xml',\n",
       " 'https://www.1mg.com/sitemap_hi_drugs_1.xml',\n",
       " 'https://www.1mg.com/sitemap_hi_drugs_2.xml',\n",
       " 'https://www.1mg.com/sitemap_hi_drugs_3.xml',\n",
       " 'https://www.1mg.com/sitemap_hi_drugs_4.xml',\n",
       " 'https://www.1mg.com/sitemap_hi_drugs_5.xml',\n",
       " 'https://www.1mg.com/sitemap_hi_drugs_6.xml',\n",
       " 'https://www.1mg.com/sitemap_hi_drugs_7.xml',\n",
       " 'https://www.1mg.com/sitemap_hi_drugs_8.xml',\n",
       " 'https://www.1mg.com/sitemap_hi_drugs_9.xml',\n",
       " 'https://www.1mg.com/sitemap_hi_drugs_10.xml',\n",
       " 'https://www.1mg.com/sitemap_hi_drugs_11.xml',\n",
       " 'https://www.1mg.com/sitemap_hi_drugs_12.xml',\n",
       " 'https://www.1mg.com/sitemap_hi_drugs_13.xml',\n",
       " 'https://www.1mg.com/sitemap_hi_drugs_14.xml',\n",
       " 'https://www.1mg.com/sitemap_hi_drugs_15.xml',\n",
       " 'https://www.1mg.com/sitemap_hi_drugs_16.xml',\n",
       " 'https://www.1mg.com/sitemap_hi_drugs_17.xml',\n",
       " 'https://www.1mg.com/sitemap_hi_drugs_18.xml',\n",
       " 'https://www.1mg.com/sitemap_hi_drugs_19.xml',\n",
       " 'https://www.1mg.com/sitemap_hi_drugs_20.xml',\n",
       " 'https://www.1mg.com/sitemap_hi_drugs_21.xml',\n",
       " 'https://www.1mg.com/sitemap_hi_drugs_22.xml',\n",
       " 'https://www.1mg.com/sitemap_hi_drugs_23.xml',\n",
       " 'https://www.1mg.com/sitemap_hi_drugs_24.xml',\n",
       " 'https://www.1mg.com/sitemap_hi_drugs_25.xml',\n",
       " 'https://www.1mg.com/sitemap_hi_drugs_26.xml',\n",
       " 'https://www.1mg.com/sitemap_hi_drugs_27.xml',\n",
       " 'https://www.1mg.com/sitemap_hi_drugs_28.xml',\n",
       " 'https://www.1mg.com/sitemap_hi_drugs_29.xml',\n",
       " 'https://www.1mg.com/sitemap_hi_drugs_30.xml',\n",
       " 'https://www.1mg.com/sitemap_hi_drugs_31.xml',\n",
       " 'https://www.1mg.com/sitemap_generics_1.xml',\n",
       " 'https://www.1mg.com/sitemap_hi_generics_1.xml',\n",
       " 'https://www.1mg.com/sitemap_diseases_1.xml',\n",
       " 'https://www.1mg.com/sitemap_ayurveda_1.xml',\n",
       " 'https://www.1mg.com/sitemap_categories_1.xml',\n",
       " 'https://www.1mg.com/sitemap_miscellaneous_1.xml']"
      ]
     },
     "execution_count": 5,
     "metadata": {},
     "output_type": "execute_result"
    }
   ],
   "source": [
    "urls"
   ]
  },
  {
   "cell_type": "code",
   "execution_count": 6,
   "id": "620bd1ac-a62c-46ec-84a6-7bba1f656d77",
   "metadata": {},
   "outputs": [
    {
     "name": "stderr",
     "output_type": "stream",
     "text": [
      "  0%|                                                                                           | 0/31 [00:00<?, ?it/s]\n",
      "100%|████████████████████████████████████████████████████████████████████████| 10000/10000 [00:00<00:00, 157397.17it/s]\u001b[A\n",
      "  3%|██▋                                                                                | 1/31 [00:06<03:24,  6.83s/it]\n",
      "100%|████████████████████████████████████████████████████████████████████████| 10000/10000 [00:00<00:00, 118211.01it/s]\u001b[A\n",
      "  6%|█████▎                                                                             | 2/31 [00:13<03:21,  6.94s/it]\n",
      "100%|████████████████████████████████████████████████████████████████████████| 10000/10000 [00:00<00:00, 135818.87it/s]\u001b[A\n",
      " 10%|████████                                                                           | 3/31 [00:20<03:12,  6.87s/it]\n",
      "100%|████████████████████████████████████████████████████████████████████████| 10000/10000 [00:00<00:00, 122232.67it/s]\u001b[A\n",
      " 13%|██████████▋                                                                        | 4/31 [00:27<03:04,  6.83s/it]\n",
      "100%|████████████████████████████████████████████████████████████████████████| 10000/10000 [00:00<00:00, 142840.25it/s]\u001b[A\n",
      " 16%|█████████████▍                                                                     | 5/31 [00:33<02:54,  6.71s/it]\n",
      "100%|████████████████████████████████████████████████████████████████████████| 10000/10000 [00:00<00:00, 165613.23it/s]\u001b[A\n",
      " 19%|████████████████                                                                   | 6/31 [00:40<02:49,  6.80s/it]\n",
      "100%|████████████████████████████████████████████████████████████████████████| 10000/10000 [00:00<00:00, 145423.98it/s]\u001b[A\n",
      " 23%|██████████████████▋                                                                | 7/31 [00:47<02:44,  6.84s/it]\n",
      "100%|████████████████████████████████████████████████████████████████████████| 10000/10000 [00:00<00:00, 134731.65it/s]\u001b[A\n",
      " 26%|█████████████████████▍                                                             | 8/31 [00:55<02:40,  6.96s/it]\n",
      "100%|████████████████████████████████████████████████████████████████████████| 10000/10000 [00:00<00:00, 136981.47it/s]\u001b[A\n",
      " 29%|████████████████████████                                                           | 9/31 [01:01<02:32,  6.92s/it]\n",
      "100%|████████████████████████████████████████████████████████████████████████| 10000/10000 [00:00<00:00, 189777.21it/s]\u001b[A\n",
      " 32%|██████████████████████████▍                                                       | 10/31 [01:08<02:25,  6.91s/it]\n",
      "100%|████████████████████████████████████████████████████████████████████████| 10000/10000 [00:00<00:00, 193441.90it/s]\u001b[A\n",
      " 35%|█████████████████████████████                                                     | 11/31 [01:15<02:17,  6.87s/it]\n",
      "100%|████████████████████████████████████████████████████████████████████████| 10000/10000 [00:00<00:00, 147703.40it/s]\u001b[A\n",
      " 39%|███████████████████████████████▋                                                  | 12/31 [01:22<02:08,  6.78s/it]\n",
      "100%|████████████████████████████████████████████████████████████████████████| 10000/10000 [00:00<00:00, 188536.86it/s]\u001b[A\n",
      " 42%|██████████████████████████████████▍                                               | 13/31 [01:28<02:00,  6.71s/it]\n",
      "100%|████████████████████████████████████████████████████████████████████████| 10000/10000 [00:00<00:00, 134252.10it/s]\u001b[A\n",
      " 45%|█████████████████████████████████████                                             | 14/31 [01:35<01:55,  6.81s/it]\n",
      "100%|████████████████████████████████████████████████████████████████████████| 10000/10000 [00:00<00:00, 113420.88it/s]\u001b[A\n",
      " 48%|███████████████████████████████████████▋                                          | 15/31 [01:42<01:49,  6.86s/it]\n",
      "100%|████████████████████████████████████████████████████████████████████████| 10000/10000 [00:00<00:00, 145472.91it/s]\u001b[A\n",
      " 52%|██████████████████████████████████████████▎                                       | 16/31 [01:50<01:46,  7.08s/it]\n",
      "100%|████████████████████████████████████████████████████████████████████████| 10000/10000 [00:00<00:00, 101877.43it/s]\u001b[A\n",
      " 55%|████████████████████████████████████████████▉                                     | 17/31 [01:57<01:38,  7.02s/it]\n",
      "100%|████████████████████████████████████████████████████████████████████████| 10000/10000 [00:00<00:00, 140241.61it/s]\u001b[A\n",
      " 58%|███████████████████████████████████████████████▌                                  | 18/31 [02:04<01:32,  7.12s/it]\n",
      "100%|████████████████████████████████████████████████████████████████████████| 10000/10000 [00:00<00:00, 143473.00it/s]\u001b[A\n",
      " 61%|██████████████████████████████████████████████████▎                               | 19/31 [02:11<01:25,  7.14s/it]\n",
      "100%|████████████████████████████████████████████████████████████████████████| 10000/10000 [00:00<00:00, 106696.51it/s]\u001b[A\n",
      " 65%|████████████████████████████████████████████████████▉                             | 20/31 [02:18<01:17,  7.03s/it]\n",
      "100%|████████████████████████████████████████████████████████████████████████| 10000/10000 [00:00<00:00, 127633.09it/s]\u001b[A\n",
      " 68%|███████████████████████████████████████████████████████▌                          | 21/31 [02:25<01:09,  6.91s/it]\n",
      "100%|████████████████████████████████████████████████████████████████████████| 10000/10000 [00:00<00:00, 118618.54it/s]\u001b[A\n",
      " 71%|██████████████████████████████████████████████████████████▏                       | 22/31 [02:31<01:02,  6.90s/it]\n",
      "100%|████████████████████████████████████████████████████████████████████████| 10000/10000 [00:00<00:00, 119155.35it/s]\u001b[A\n",
      " 74%|████████████████████████████████████████████████████████████▊                     | 23/31 [02:39<00:56,  7.03s/it]\n",
      "100%|████████████████████████████████████████████████████████████████████████| 10000/10000 [00:00<00:00, 126755.58it/s]\u001b[A\n",
      " 77%|███████████████████████████████████████████████████████████████▍                  | 24/31 [02:46<00:49,  7.01s/it]\n",
      "100%|████████████████████████████████████████████████████████████████████████| 10000/10000 [00:00<00:00, 157205.44it/s]\u001b[A\n",
      " 81%|██████████████████████████████████████████████████████████████████▏               | 25/31 [02:52<00:41,  6.90s/it]\n",
      "100%|████████████████████████████████████████████████████████████████████████| 10000/10000 [00:00<00:00, 106267.50it/s]\u001b[A\n",
      " 84%|████████████████████████████████████████████████████████████████████▊             | 26/31 [02:59<00:34,  6.86s/it]\n",
      "100%|████████████████████████████████████████████████████████████████████████| 10000/10000 [00:00<00:00, 178024.97it/s]\u001b[A\n",
      " 87%|███████████████████████████████████████████████████████████████████████▍          | 27/31 [03:06<00:26,  6.74s/it]\n",
      "100%|████████████████████████████████████████████████████████████████████████| 10000/10000 [00:00<00:00, 126698.91it/s]\u001b[A\n",
      " 90%|██████████████████████████████████████████████████████████████████████████        | 28/31 [03:12<00:19,  6.63s/it]\n",
      "100%|████████████████████████████████████████████████████████████████████████| 10000/10000 [00:00<00:00, 126482.27it/s]\u001b[A\n",
      " 94%|████████████████████████████████████████████████████████████████████████████▋     | 29/31 [03:19<00:13,  6.63s/it]\n",
      "100%|████████████████████████████████████████████████████████████████████████| 10000/10000 [00:00<00:00, 152368.33it/s]\u001b[A\n",
      " 97%|███████████████████████████████████████████████████████████████████████████████▎  | 30/31 [03:26<00:06,  6.92s/it]\n",
      "100%|██████████████████████████████████████████████████████████████████████████| 6537/6537 [00:00<00:00, 199432.40it/s]\u001b[A\n",
      "100%|██████████████████████████████████████████████████████████████████████████████████| 31/31 [03:33<00:00,  6.88s/it]\n"
     ]
    }
   ],
   "source": [
    "# check how many drugs are there in each single sitemap_drug_n.xml\n",
    "# add drug link to a list for each drug\n",
    "numdrugs = []\n",
    "allurls = []\n",
    "for drugsurl in tqdm(urls[:31]):\n",
    "    drugsrequest = requests.get(drugsurl)\n",
    "    drugsxml = drugsrequest.text\n",
    "    drugsdata = BeautifulSoup(drugsxml, 'lxml')\n",
    "\n",
    "    drugloc = drugsdata.find_all(\"loc\")\n",
    "    numdrugs.append(len(drugloc))\n",
    "    for drug in tqdm(drugloc):\n",
    "        allurls.append(str(drug)[5:len(drug)-7])\n",
    "    sleep(5) # sleep for 5 seconds to avoid rate limit for requests"
   ]
  },
  {
   "cell_type": "code",
   "execution_count": 7,
   "id": "5b185cba-3dba-4d36-a2cb-770eacdffc2e",
   "metadata": {
    "scrolled": true
   },
   "outputs": [
    {
     "data": {
      "text/plain": [
       "[10000,\n",
       " 10000,\n",
       " 10000,\n",
       " 10000,\n",
       " 10000,\n",
       " 10000,\n",
       " 10000,\n",
       " 10000,\n",
       " 10000,\n",
       " 10000,\n",
       " 10000,\n",
       " 10000,\n",
       " 10000,\n",
       " 10000,\n",
       " 10000,\n",
       " 10000,\n",
       " 10000,\n",
       " 10000,\n",
       " 10000,\n",
       " 10000,\n",
       " 10000,\n",
       " 10000,\n",
       " 10000,\n",
       " 10000,\n",
       " 10000,\n",
       " 10000,\n",
       " 10000,\n",
       " 10000,\n",
       " 10000,\n",
       " 10000,\n",
       " 6537]"
      ]
     },
     "execution_count": 7,
     "metadata": {},
     "output_type": "execute_result"
    }
   ],
   "source": [
    "numdrugs"
   ]
  },
  {
   "cell_type": "code",
   "execution_count": 8,
   "id": "4a73e9fd-63f9-4ca4-9f06-07165e1c3988",
   "metadata": {},
   "outputs": [
    {
     "name": "stdout",
     "output_type": "stream",
     "text": [
      "306537\n"
     ]
    }
   ],
   "source": [
    "print(sum(numdrugs))"
   ]
  },
  {
   "cell_type": "code",
   "execution_count": 11,
   "id": "6f467862-6713-4b8a-99b1-4ae3e857f162",
   "metadata": {},
   "outputs": [
    {
     "data": {
      "text/plain": [
       "list"
      ]
     },
     "execution_count": 11,
     "metadata": {},
     "output_type": "execute_result"
    }
   ],
   "source": [
    "type(allurls)"
   ]
  },
  {
   "cell_type": "code",
   "execution_count": 14,
   "id": "bae2b87c-b2da-437c-ad79-a73c78813748",
   "metadata": {},
   "outputs": [],
   "source": [
    "# save all links as a csv so that requests can be avoided at a later run\n",
    "np.savetxt(\"allurls.csv\", allurls, delimiter=\", \", fmt='% s') "
   ]
  },
  {
   "cell_type": "code",
   "execution_count": 3,
   "id": "9a235582-cf83-4d69-bc45-742766f190db",
   "metadata": {},
   "outputs": [
    {
     "name": "stdout",
     "output_type": "stream",
     "text": [
      "          https://www.1mg.com/drugs/coltro-5-tablet-74488\n",
      "0        https://www.1mg.com/drugs/fadine-40-tablet-74226\n",
      "1       https://www.1mg.com/drugs/terbinator-125mg-tab...\n",
      "2       https://www.1mg.com/drugs/zifi-50-dt-tablet-12...\n",
      "3       https://www.1mg.com/drugs/epofit-6000iu-inject...\n",
      "4       https://www.1mg.com/drugs/larinate-120mg-injec...\n",
      "...                                                   ...\n",
      "306531  https://www.1mg.com/drugs/neksium-40-tablet-79...\n",
      "306532  https://www.1mg.com/drugs/mintop-gain-10-hair-...\n",
      "306533  https://www.1mg.com/drugs/densita-mf-solution-...\n",
      "306534  https://www.1mg.com/drugs/rivaban-2.5mg-tablet...\n",
      "306535  https://www.1mg.com/drugs/kalnase-nasal-spray-...\n",
      "\n",
      "[306536 rows x 1 columns]\n"
     ]
    }
   ],
   "source": [
    "allurlsdf = pd.read_csv('allurls.csv')\n",
    "print(allurlsdf)"
   ]
  },
  {
   "cell_type": "code",
   "execution_count": 4,
   "id": "74406144-f5c1-4aea-8597-1fb76496ceeb",
   "metadata": {},
   "outputs": [
    {
     "data": {
      "text/html": [
       "<div>\n",
       "<style scoped>\n",
       "    .dataframe tbody tr th:only-of-type {\n",
       "        vertical-align: middle;\n",
       "    }\n",
       "\n",
       "    .dataframe tbody tr th {\n",
       "        vertical-align: top;\n",
       "    }\n",
       "\n",
       "    .dataframe thead th {\n",
       "        text-align: right;\n",
       "    }\n",
       "</style>\n",
       "<table border=\"1\" class=\"dataframe\">\n",
       "  <thead>\n",
       "    <tr style=\"text-align: right;\">\n",
       "      <th></th>\n",
       "      <th>https://www.1mg.com/drugs/coltro-5-tablet-74488</th>\n",
       "    </tr>\n",
       "  </thead>\n",
       "  <tbody>\n",
       "    <tr>\n",
       "      <th>0</th>\n",
       "      <td>https://www.1mg.com/drugs/fadine-40-tablet-74226</td>\n",
       "    </tr>\n",
       "    <tr>\n",
       "      <th>1</th>\n",
       "      <td>https://www.1mg.com/drugs/terbinator-125mg-tab...</td>\n",
       "    </tr>\n",
       "    <tr>\n",
       "      <th>2</th>\n",
       "      <td>https://www.1mg.com/drugs/zifi-50-dt-tablet-12...</td>\n",
       "    </tr>\n",
       "    <tr>\n",
       "      <th>3</th>\n",
       "      <td>https://www.1mg.com/drugs/epofit-6000iu-inject...</td>\n",
       "    </tr>\n",
       "    <tr>\n",
       "      <th>4</th>\n",
       "      <td>https://www.1mg.com/drugs/larinate-120mg-injec...</td>\n",
       "    </tr>\n",
       "    <tr>\n",
       "      <th>...</th>\n",
       "      <td>...</td>\n",
       "    </tr>\n",
       "    <tr>\n",
       "      <th>39995</th>\n",
       "      <td>https://www.1mg.com/drugs/cezizone-250-injecti...</td>\n",
       "    </tr>\n",
       "    <tr>\n",
       "      <th>39996</th>\n",
       "      <td>https://www.1mg.com/drugs/cezizone-t-injection...</td>\n",
       "    </tr>\n",
       "    <tr>\n",
       "      <th>39997</th>\n",
       "      <td>https://www.1mg.com/drugs/montigest-kid-2.5mg-...</td>\n",
       "    </tr>\n",
       "    <tr>\n",
       "      <th>39998</th>\n",
       "      <td>https://www.1mg.com/drugs/conceft-s-1000mg-500...</td>\n",
       "    </tr>\n",
       "    <tr>\n",
       "      <th>39999</th>\n",
       "      <td>https://www.1mg.com/drugs/ndrik-50mg-injection...</td>\n",
       "    </tr>\n",
       "  </tbody>\n",
       "</table>\n",
       "<p>40000 rows × 1 columns</p>\n",
       "</div>"
      ],
      "text/plain": [
       "         https://www.1mg.com/drugs/coltro-5-tablet-74488\n",
       "0       https://www.1mg.com/drugs/fadine-40-tablet-74226\n",
       "1      https://www.1mg.com/drugs/terbinator-125mg-tab...\n",
       "2      https://www.1mg.com/drugs/zifi-50-dt-tablet-12...\n",
       "3      https://www.1mg.com/drugs/epofit-6000iu-inject...\n",
       "4      https://www.1mg.com/drugs/larinate-120mg-injec...\n",
       "...                                                  ...\n",
       "39995  https://www.1mg.com/drugs/cezizone-250-injecti...\n",
       "39996  https://www.1mg.com/drugs/cezizone-t-injection...\n",
       "39997  https://www.1mg.com/drugs/montigest-kid-2.5mg-...\n",
       "39998  https://www.1mg.com/drugs/conceft-s-1000mg-500...\n",
       "39999  https://www.1mg.com/drugs/ndrik-50mg-injection...\n",
       "\n",
       "[40000 rows x 1 columns]"
      ]
     },
     "execution_count": 4,
     "metadata": {},
     "output_type": "execute_result"
    }
   ],
   "source": [
    "# select 40000 medicines\n",
    "\n",
    "finalurls = allurlsdf[:40000]\n",
    "finalurls"
   ]
  },
  {
   "cell_type": "code",
   "execution_count": 5,
   "id": "bd4a7084-022e-417e-b1cc-a24b7f0ff37b",
   "metadata": {},
   "outputs": [],
   "source": [
    "finalurlslist = finalurls.values.tolist()"
   ]
  },
  {
   "cell_type": "code",
   "execution_count": 6,
   "id": "da97a083-333a-4260-a120-0a30119175ef",
   "metadata": {},
   "outputs": [
    {
     "data": {
      "text/plain": [
       "'https://www.1mg.com/drugs/fadine-40-tablet-74226'"
      ]
     },
     "execution_count": 6,
     "metadata": {},
     "output_type": "execute_result"
    }
   ],
   "source": [
    "finalurlslist[0][0]"
   ]
  },
  {
   "cell_type": "markdown",
   "id": "9fb8a457-8388-47bd-b4ef-8f36f536fb73",
   "metadata": {},
   "source": [
    "### Get information for each drug and save it as txt"
   ]
  },
  {
   "cell_type": "code",
   "execution_count": 44,
   "id": "9f844927-17aa-4173-9fbd-11514ea4c569",
   "metadata": {},
   "outputs": [],
   "source": [
    "# extracting information for one drug\n",
    "options = webdriver.ChromeOptions()\n",
    "options.add_argument(\"--headless\")\n",
    "options.add_argument(\"--disable-gpu\")\n",
    "driver = webdriver.Chrome(options = options)\n",
    "driver.get(finalurlslist[0][0])\n",
    "medsite = driver.page_source\n",
    "medsoup = BeautifulSoup(medsite)\n",
    "#medsoup\n",
    "driver.close()"
   ]
  },
  {
   "cell_type": "code",
   "execution_count": 45,
   "id": "595c35b5-a9b1-4354-bd5d-e84d162e80c5",
   "metadata": {},
   "outputs": [
    {
     "data": {
      "text/plain": [
       "'Fadine 40 Tablet'"
      ]
     },
     "execution_count": 45,
     "metadata": {},
     "output_type": "execute_result"
    }
   ],
   "source": [
    "# name of the medicine\n",
    "\n",
    "medsoup.find('h1', {'class':\"DrugHeader__title-content___2ZaPo\"}).text"
   ]
  },
  {
   "cell_type": "code",
   "execution_count": 43,
   "id": "a0933e2f-5f55-4b3f-b269-df98649dced9",
   "metadata": {},
   "outputs": [
    {
     "data": {
      "text/plain": [
       "[<div class=\"DrugOverview__content___22ZBX\">Fadine 40 Tablet is an antacid. It reduces the amount of acid produced by your stomach. It is used to treat and prevent heartburn, indigestion and other symptoms caused by too much acid in the stomach. It is also used to treat and prevent stomach ulcers, reflux disease and some other rare conditions.<br/><br/>Fadine 40 Tablet is also commonly prescribed to prevent stomach ulcers and heartburn caused due to the use of painkillers. It must be swallowed whole with water before or after a meal. The medicine must be taken in the dose and duration advised by the doctor. This medicine should relieve indigestion and heartburn within a few hours. If the symptoms persist or get worse even after 14 days of treatment, you should consult your doctor immediately. It is not recommended to take this medicine in severe stomach disease. You can help the medicine work better by eating smaller meals more often and avoiding spicy or oily foods.<br/><br/>Most people who take Fadine 40 Tablet do not have any side effects but the most common ones include headache, dizziness, drowsiness, diarrhea, and constipation. If you do get a side effect, it is usually mild and will go away when you stop taking this medicine or as you adjust to it. Consult your doctor if any of these side effects bother you or do not go away.<br/><br/>Before taking it, you should tell your doctor if you have any kidney or liver diseases so that your doctor can prescribe a suitable dose for you. Also, tell your doctor if you are taking other medications. This medicine is usually considered safe to take during pregnancy and breastfeeding if a doctor has prescribed it. Avoid drinking alcohol as this can increase the amount of acid in your stomach, and make your symptoms worse.</div>,\n",
       " <div class=\"DrugOverview__content___22ZBX\"><ul class=\"DrugOverview__list___1HjxR DrugOverview__uses___1jmC3\"><li><a href=\"/diseases/gastroesophageal-reflux-disease-acid-reflux-688\">Treatment of Gastroesophageal reflux disease (Acid reflux)</a></li><li><span>Treatment of Peptic ulcer disease</span></li><li><a href=\"/diseases/heartburn-43\">Treatment of Heartburn</a></li></ul></div>,\n",
       " <div class=\"DrugOverview__content___22ZBX\"><div><div class=\"ShowMoreArray__tile___2mFZk\"><div><div><h3 class=\"\">In Treatment of Gastroesophageal reflux disease (Acid reflux)</h3><div>Gastroesophageal reflux disease (GERD) is a chronic condition which is like having heartburn consistently rather than just occasionally. It happens because a muscle above your stomach relaxes too much and allows stomach contents to come back up into your esophagus and mouth. Fadine 40 Tablet reduces the amount of acid your stomach makes and relieves the pain associated with heartburn and acid reflux. You should take it exactly as it is prescribed for it to be effective. <br/><br/>Some simple lifestyle changes can help stop or reduce heartburn. Think about what foods trigger heartburn and try to avoid them; eat smaller, more frequent meals; try to lose weight if you are overweight and try to find ways to relax. Do not eat within 3 to 4 hours of going to bed.</div></div></div><input checked=\"\" id=\"Benefits of Fadine Tablet-0\" type=\"checkbox\"/><div class=\"ShowMoreArray__content___2OHDK\"><div class=\"ShowMoreArray__tile___2mFZk\"><div><h3 class=\"DrugOverview__m-top-8___1rr5V\">In Treatment of Peptic ulcer disease</h3><div>Stomach ulcers are usually caused by using non-steroidal anti-inflammatory drugs (NSAIDs) or by bacteria called Helicobacter pylori. They both break down the stomach’s defence against the acid it produces to digest food. This damages the stomach and allows an ulcer to form. Fadine 40 Tablet may be used to treat these ulcers. It reduces the amount of acid your stomach makes which prevents further damage to the ulcer as it heals naturally. You may be given other medicines depending on what caused the ulcer. You need to keep taking the medicine as it is prescribed for it to be effective, even if the symptoms seem to disappear. It may also be prescribed to prevent stomach ulcers from forming by reducing the amount of acid.</div></div></div><div class=\"ShowMoreArray__tile___2mFZk\"><div><h3 class=\"DrugOverview__m-top-8___1rr5V\">In Treatment of Heartburn</h3><div>Heartburn is a burning feeling in your chest caused by stomach acids traveling back up towards your throat and mouth (acid reflux). It happens because a muscle above your stomach relaxes too much and allows stomach contents and acid to come back up into your esophagus and mouth. This can be a symptom of indigestion (dyspepsia). Fadine 40 Tablet belongs to a group of medicines called histamine 2 antagonists. It works by reducing the amount of acid your stomach makes and relieves the pain associated with heartburn and indigestion.<br/><br/>You should take it exactly as it is prescribed or as it says on the label for it to be effective. Some simple lifestyle changes can help stop or reduce heartburn. Think about what foods trigger heartburn and try to avoid them; eat smaller more frequent meals; try to lose weight if you are overweight and try to find ways to relax. Do not eat within 3–4 hours of going to bed.</div></div></div></div><label for=\"Benefits of Fadine Tablet-0\"><div class=\"ShowMoreArray__toggle___3yZBW ShowMoreArray__more___YceZH\">show more</div><div class=\"ShowMoreArray__toggle___3yZBW ShowMoreArray__less___3Np63\">show less</div></label><div class=\"ShowMoreArray__label___dhPZJ\"></div></div></div></div>,\n",
       " <div class=\"DrugOverview__content___22ZBX\">Most side effects do not require any medical attention and disappear as your body adjusts to the medicine. Consult your doctor if they persist or if you’re worried about them</div>,\n",
       " <div class=\"DrugOverview__content___22ZBX\"><h3 class=\"DrugOverview__tag___fooLQ\">Common side effects of Fadine</h3><div class=\"DrugOverview__list-container___2eAr6 DrugOverview__content___22ZBX\"><ul><li>Headache</li><li>Dizziness</li><li>Diarrhea</li><li>Constipation</li></ul></div></div>,\n",
       " <div class=\"DrugOverview__list-container___2eAr6 DrugOverview__content___22ZBX\"><ul><li>Headache</li><li>Dizziness</li><li>Diarrhea</li><li>Constipation</li></ul></div>,\n",
       " <div class=\"DrugOverview__content___22ZBX\">Take this medicine in the dose and duration as advised by your doctor. Swallow it as a whole. Do not chew, crush or break it. Fadine 40 Tablet is to be taken with food.</div>,\n",
       " <div class=\"DrugOverview__content___22ZBX\">Fadine 40 Tablet is a histamine H2 receptor antagonist. It works by reducing the acid produced in the stomach. This helps to relieve acid-related indigestion and heartburn.</div>,\n",
       " <div class=\"DrugOverview__content___22ZBX\"><div class=\"DrugOverview__warning-top___UD3xX\"><div class=\"DrugOverview__fixed50___2KyzD\"><div class=\"\"></div></div><span>Alcohol</span><div class=\"DrugOverview__warning-tag___aHZlc\" style=\"background-color:#FFD9E1;color:#000000\">UNSAFE</div></div><div class=\"DrugOverview__content___22ZBX\">It is unsafe to consume alcohol with Fadine 40 Tablet.</div><div class=\"DrugOverview__warning-top___UD3xX\"><div class=\"DrugOverview__fixed50___2KyzD\"><div class=\"\"></div></div><span>Pregnancy</span><div class=\"DrugOverview__warning-tag___aHZlc\" style=\"background-color:#E2F6E7;color:#000000\">SAFE IF PRESCRIBED</div></div><div class=\"DrugOverview__content___22ZBX\">Fadine 40 Tablet is generally considered safe to use during pregnancy. Animal studies have shown low or no adverse effects to the developing baby; however, there are limited human studies. </div><div class=\"DrugOverview__warning-top___UD3xX\"><div class=\"DrugOverview__fixed50___2KyzD\"><div class=\"\"></div></div><span>Breast feeding</span><div class=\"DrugOverview__warning-tag___aHZlc\" style=\"background-color:#E2F6E7;color:#000000\">SAFE IF PRESCRIBED</div></div><div class=\"DrugOverview__content___22ZBX\">Fadine 40 Tablet is probably safe to use during breastfeeding. Limited human data suggests that the drug does not represent any significant risk to the baby.</div><div class=\"DrugOverview__warning-top___UD3xX\"><div class=\"DrugOverview__fixed50___2KyzD\"><div class=\"\"></div></div><span>Driving</span><div class=\"DrugOverview__warning-tag___aHZlc\" style=\"background-color:#E2F6E7;color:#000000\">SAFE</div></div><div class=\"DrugOverview__content___22ZBX\">Fadine 40 Tablet does not usually affect your ability to drive.</div><div class=\"DrugOverview__warning-top___UD3xX\"><div class=\"DrugOverview__fixed50___2KyzD\"><div class=\"\"></div></div><span>Kidney</span><div class=\"DrugOverview__warning-tag___aHZlc\" style=\"background-color:#FFE0CC;color:#000000\">CAUTION</div></div><div class=\"DrugOverview__content___22ZBX\">Fadine 40 Tablet should be used with caution in patients with kidney disease. Dose adjustment of Fadine 40 Tablet may be needed. Please consult your doctor.</div><div class=\"DrugOverview__warning-top___UD3xX\"><div class=\"DrugOverview__fixed50___2KyzD\"><div class=\"\"></div></div><span>Liver</span><div class=\"DrugOverview__warning-tag___aHZlc\" style=\"background-color:#E2F6E7;color:#000000\">SAFE IF PRESCRIBED</div></div><div class=\"DrugOverview__content___22ZBX\">Fadine 40 Tablet is probably safe to use in patients with liver disease. Limited data available suggests that dose adjustment of Fadine 40 Tablet may not be needed in these patients. Please consult your  doctor.</div></div>,\n",
       " <div class=\"DrugOverview__content___22ZBX\">It is unsafe to consume alcohol with Fadine 40 Tablet.</div>,\n",
       " <div class=\"DrugOverview__content___22ZBX\">Fadine 40 Tablet is generally considered safe to use during pregnancy. Animal studies have shown low or no adverse effects to the developing baby; however, there are limited human studies. </div>,\n",
       " <div class=\"DrugOverview__content___22ZBX\">Fadine 40 Tablet is probably safe to use during breastfeeding. Limited human data suggests that the drug does not represent any significant risk to the baby.</div>,\n",
       " <div class=\"DrugOverview__content___22ZBX\">Fadine 40 Tablet does not usually affect your ability to drive.</div>,\n",
       " <div class=\"DrugOverview__content___22ZBX\">Fadine 40 Tablet should be used with caution in patients with kidney disease. Dose adjustment of Fadine 40 Tablet may be needed. Please consult your doctor.</div>,\n",
       " <div class=\"DrugOverview__content___22ZBX\">Fadine 40 Tablet is probably safe to use in patients with liver disease. Limited data available suggests that dose adjustment of Fadine 40 Tablet may not be needed in these patients. Please consult your  doctor.</div>,\n",
       " <div class=\"DrugOverview__content___22ZBX\">If you miss a dose of Fadine 40 Tablet, take it as soon as possible. However, if it is almost time for your next dose, skip the missed dose and go back to your regular schedule. Do not double the dose.\n",
       " </div>]"
      ]
     },
     "execution_count": 43,
     "metadata": {},
     "output_type": "execute_result"
    }
   ],
   "source": [
    "# Contains sufficient information for a single drug\n",
    "medsoup.find_all('div', class_='DrugOverview__content___22ZBX')"
   ]
  },
  {
   "cell_type": "code",
   "execution_count": 29,
   "id": "dc9e2471-1341-4e13-972c-c0be8aedddbe",
   "metadata": {},
   "outputs": [
    {
     "data": {
      "text/plain": [
       "'Fadine 40 Tablet is an antacid. It reduces the amount of acid produced by your stomach. It is used to treat and prevent heartburn, indigestion and other symptoms caused by too much acid in the stomach. It is also used to treat and prevent stomach ulcers, reflux disease and some other rare conditions.Fadine 40 Tablet is also commonly prescribed to prevent stomach ulcers and heartburn caused due to the use of painkillers. It must be swallowed whole with water before or after a meal. The medicine must be taken in the dose and duration advised by the doctor. This medicine should relieve indigestion and heartburn within a few hours. If the symptoms persist or get worse even after 14 days of treatment, you should consult your doctor immediately. It is not recommended to take this medicine in severe stomach disease. You can help the medicine work better by eating smaller meals more often and avoiding spicy or oily foods.Most people who take Fadine 40 Tablet do not have any side effects but the most common ones include headache, dizziness, drowsiness, diarrhea, and constipation. If you do get a side effect, it is usually mild and will go away when you stop taking this medicine or as you adjust to it. Consult your doctor if any of these side effects bother you or do not go away.Before taking it, you should tell your doctor if you have any kidney or liver diseases so that your doctor can prescribe a suitable dose for you. Also, tell your doctor if you are taking other medications. This medicine is usually considered safe to take during pregnancy and breastfeeding if a doctor has prescribed it. Avoid drinking alcohol as this can increase the amount of acid in your stomach, and make your symptoms worse.'"
      ]
     },
     "execution_count": 29,
     "metadata": {},
     "output_type": "execute_result"
    }
   ],
   "source": [
    "medsoup.find_all('div', class_='DrugOverview__content___22ZBX')[0].text"
   ]
  },
  {
   "cell_type": "code",
   "execution_count": 48,
   "id": "fcb5a381-3597-4672-9759-bcbe7e2148ac",
   "metadata": {},
   "outputs": [
    {
     "data": {
      "text/plain": [
       "'D:\\\\medbot\\\\medicineDataset\\\\Fadine 40 Tablet.txt'"
      ]
     },
     "execution_count": 48,
     "metadata": {},
     "output_type": "execute_result"
    }
   ],
   "source": [
    "name = medsoup.find('h1', {'class':\"DrugHeader__title-content___2ZaPo\"}).text\n",
    "medpath = 'D:\\\\medbot\\\\medicineDataset\\\\'+name+'.txt'\n",
    "medpath"
   ]
  },
  {
   "cell_type": "code",
   "execution_count": 49,
   "id": "2503c15b-cdd0-4f51-8b45-f7c8e19747a1",
   "metadata": {},
   "outputs": [
    {
     "data": {
      "text/plain": [
       "str"
      ]
     },
     "execution_count": 49,
     "metadata": {},
     "output_type": "execute_result"
    }
   ],
   "source": [
    "type(name)"
   ]
  },
  {
   "cell_type": "code",
   "execution_count": 31,
   "id": "bed56895-b1ca-47ba-a9b7-cb96dc1c58b7",
   "metadata": {},
   "outputs": [],
   "source": [
    "allcontent = medsoup.find_all('div', class_='DrugOverview__content___22ZBX')\n",
    "contentlist = []\n",
    "\n",
    "for content in allcontent:\n",
    "    contentlist.append(content.text)"
   ]
  },
  {
   "cell_type": "code",
   "execution_count": 32,
   "id": "f85d0150-4a65-4f05-ad7f-80dc25131827",
   "metadata": {},
   "outputs": [
    {
     "data": {
      "text/plain": [
       "['Fadine 40 Tablet is an antacid. It reduces the amount of acid produced by your stomach. It is used to treat and prevent heartburn, indigestion and other symptoms caused by too much acid in the stomach. It is also used to treat and prevent stomach ulcers, reflux disease and some other rare conditions.Fadine 40 Tablet is also commonly prescribed to prevent stomach ulcers and heartburn caused due to the use of painkillers. It must be swallowed whole with water before or after a meal. The medicine must be taken in the dose and duration advised by the doctor. This medicine should relieve indigestion and heartburn within a few hours. If the symptoms persist or get worse even after 14 days of treatment, you should consult your doctor immediately. It is not recommended to take this medicine in severe stomach disease. You can help the medicine work better by eating smaller meals more often and avoiding spicy or oily foods.Most people who take Fadine 40 Tablet do not have any side effects but the most common ones include headache, dizziness, drowsiness, diarrhea, and constipation. If you do get a side effect, it is usually mild and will go away when you stop taking this medicine or as you adjust to it. Consult your doctor if any of these side effects bother you or do not go away.Before taking it, you should tell your doctor if you have any kidney or liver diseases so that your doctor can prescribe a suitable dose for you. Also, tell your doctor if you are taking other medications. This medicine is usually considered safe to take during pregnancy and breastfeeding if a doctor has prescribed it. Avoid drinking alcohol as this can increase the amount of acid in your stomach, and make your symptoms worse.',\n",
       " 'Treatment of Gastroesophageal reflux disease (Acid reflux)Treatment of Peptic ulcer diseaseTreatment of Heartburn',\n",
       " 'In Treatment of Gastroesophageal reflux disease (Acid reflux)Gastroesophageal reflux disease (GERD) is a chronic condition which is like having heartburn consistently rather than just occasionally. It happens because a muscle above your stomach relaxes too much and allows stomach contents to come back up into your esophagus and mouth. Fadine 40 Tablet reduces the amount of acid your stomach makes and relieves the pain associated with heartburn and acid reflux. You should take it exactly as it is prescribed for it to be effective. Some simple lifestyle changes can help stop or reduce heartburn. Think about what foods trigger heartburn and try to avoid them; eat smaller, more frequent meals; try to lose weight if you are overweight and try to find ways to relax. Do not eat within 3 to 4 hours of going to bed.In Treatment of Peptic ulcer diseaseStomach ulcers are usually caused by using non-steroidal anti-inflammatory drugs (NSAIDs) or by bacteria called Helicobacter pylori. They both break down the stomach’s defence against the acid it produces to digest food. This damages the stomach and allows an ulcer to form. Fadine 40 Tablet may be used to treat these ulcers. It reduces the amount of acid your stomach makes which prevents further damage to the ulcer as it heals naturally. You may be given other medicines depending on what caused the ulcer. You need to keep taking the medicine as it is prescribed for it to be effective, even if the symptoms seem to disappear. It may also be prescribed to prevent stomach ulcers from forming by reducing the amount of acid.In Treatment of HeartburnHeartburn is a burning feeling in your chest caused by stomach acids traveling back up towards your throat and mouth (acid reflux). It happens because a muscle above your stomach relaxes too much and allows stomach contents and acid to come back up into your esophagus and mouth. This can be a symptom of indigestion (dyspepsia). Fadine 40 Tablet belongs to a group of medicines called histamine 2 antagonists. It works by reducing the amount of acid your stomach makes and relieves the pain associated with heartburn and indigestion.You should take it exactly as it is prescribed or as it says on the label for it to be effective. Some simple lifestyle changes can help stop or reduce heartburn. Think about what foods trigger heartburn and try to avoid them; eat smaller more frequent meals; try to lose weight if you are overweight and try to find ways to relax. Do not eat within 3–4 hours of going to bed.show moreshow less',\n",
       " 'Most side effects do not require any medical attention and disappear as your body adjusts to the medicine. Consult your doctor if they persist or if you’re worried about them',\n",
       " 'Common side effects of FadineHeadacheDizzinessDiarrheaConstipation',\n",
       " 'HeadacheDizzinessDiarrheaConstipation',\n",
       " 'Take this medicine in the dose and duration as advised by your doctor. Swallow it as a whole. Do not chew, crush or break it. Fadine 40 Tablet is to be taken with food.',\n",
       " 'Fadine 40 Tablet is a histamine H2 receptor antagonist. It works by reducing the acid produced in the stomach. This helps to relieve acid-related indigestion and heartburn.',\n",
       " 'AlcoholUNSAFEIt is unsafe to consume alcohol with Fadine 40 Tablet.PregnancySAFE IF PRESCRIBEDFadine 40 Tablet is generally considered safe to use during pregnancy. Animal studies have shown low or no adverse effects to the developing baby; however, there are limited human studies. Breast feedingSAFE IF PRESCRIBEDFadine 40 Tablet is probably safe to use during breastfeeding. Limited human data suggests that the drug does not represent any significant risk to the baby.DrivingSAFEFadine 40 Tablet does not usually affect your ability to drive.KidneyCAUTIONFadine 40 Tablet should be used with caution in patients with kidney disease. Dose adjustment of Fadine 40 Tablet may be needed. Please consult your doctor.LiverSAFE IF PRESCRIBEDFadine 40 Tablet is probably safe to use in patients with liver disease. Limited data available suggests that dose adjustment of Fadine 40 Tablet may not be needed in these patients. Please consult your  doctor.',\n",
       " 'It is unsafe to consume alcohol with Fadine 40 Tablet.',\n",
       " 'Fadine 40 Tablet is generally considered safe to use during pregnancy. Animal studies have shown low or no adverse effects to the developing baby; however, there are limited human studies. ',\n",
       " 'Fadine 40 Tablet is probably safe to use during breastfeeding. Limited human data suggests that the drug does not represent any significant risk to the baby.',\n",
       " 'Fadine 40 Tablet does not usually affect your ability to drive.',\n",
       " 'Fadine 40 Tablet should be used with caution in patients with kidney disease. Dose adjustment of Fadine 40 Tablet may be needed. Please consult your doctor.',\n",
       " 'Fadine 40 Tablet is probably safe to use in patients with liver disease. Limited data available suggests that dose adjustment of Fadine 40 Tablet may not be needed in these patients. Please consult your  doctor.',\n",
       " 'If you miss a dose of Fadine 40 Tablet, take it as soon as possible. However, if it is almost time for your next dose, skip the missed dose and go back to your regular schedule. Do not double the dose.\\n']"
      ]
     },
     "execution_count": 32,
     "metadata": {},
     "output_type": "execute_result"
    }
   ],
   "source": [
    "contentlist"
   ]
  },
  {
   "cell_type": "code",
   "execution_count": 36,
   "id": "8d271257-41c3-4256-972c-d2f033b3c503",
   "metadata": {},
   "outputs": [],
   "source": [
    "with open(medpath, \"w\") as file:\n",
    "    file.write(\"Name of the medicine: \"+name+\"\\n\")\n",
    "    for content in contentlist:\n",
    "        file.write(content+\"\\n\")"
   ]
  },
  {
   "cell_type": "markdown",
   "id": "988f5e72-165b-460e-9b4f-49ab7019eb4d",
   "metadata": {},
   "source": [
    "### 500 Meds\n",
    "\n",
    "For 40,000 medicines with a sleep time of 1 sec after extracting and saving data as a .txt, it would take minimum of 40,000 seconds (approximately 11 hours), to reduce this time as well as avoid the risk of being rate limited for requests, we can choose to decrease the number of medicines with a longer sleep time. Here, I am going with 500. Will increase the number of medicines when I have tested the limits of rate of requests.\n",
    "\n",
    "One iteration takes 9.97 seconds including the delay of 3 seconds. Reducing delay to 1 seconds for faster time. \n",
    "\n",
    "Also the selenium webdriver starts the chromium instance non-minimized. Using --headless flag for ChromeOptions can resolve this issue. https://stackoverflow.com/questions/53657215/how-to-run-headless-chrome-with-selenium-in-python\n",
    "\n",
    "Another issue is medicine names with '/' in their names, for example - Nex Oz 200mg/500mg Tablet. This leads to errors while saving the file as .txt. Will replace '/' with a ' '."
   ]
  },
  {
   "cell_type": "code",
   "execution_count": 10,
   "id": "c9fb77ec-0c6a-4fb0-85f1-688540e54074",
   "metadata": {},
   "outputs": [
    {
     "name": "stderr",
     "output_type": "stream",
     "text": [
      "100%|██████████| 10/10 [01:15<00:00,  7.52s/it]\n"
     ]
    }
   ],
   "source": [
    "N = 10\n",
    "\n",
    "options = webdriver.ChromeOptions()\n",
    "options.add_argument(\"--headless\")\n",
    "options.add_argument(\"--disable-gpu\")\n",
    "\n",
    "for i in tqdm(range(N)):\n",
    "\n",
    "    driver = webdriver.Chrome(options = options)\n",
    "    driver.get(finalurlslist[i][0])\n",
    "    medsite = driver.page_source\n",
    "    medsoup = BeautifulSoup(medsite)\n",
    "    driver.close()\n",
    "    \n",
    "    try:\n",
    "        name = medsoup.find('h1', {'class':\"DrugHeader__title-content___2ZaPo\"}).text\n",
    "    except:\n",
    "        continue\n",
    "    filename = name+'.txt'\n",
    "    clean_filename = filename.replace('/', ' ')\n",
    "    dir_path = 'D:\\\\medbot\\\\medicineDataset'\n",
    "    medpath = os.path.join(dir_path, clean_filename)\n",
    "\n",
    "    allcontent = medsoup.find_all('div', class_='DrugOverview__content___22ZBX')\n",
    "    contentlist = []\n",
    "\n",
    "    for content in allcontent:\n",
    "        contentlist.append(content.text)\n",
    "\n",
    "    with open(medpath, \"w\", encoding='utf-8') as file:\n",
    "        for content in contentlist:\n",
    "            file.write(content+\"\\n\")\n",
    "\n",
    "    sleep(1)"
   ]
  },
  {
   "cell_type": "code",
   "execution_count": null,
   "id": "ce1d206e-d4a2-4740-972b-240241fd7e2c",
   "metadata": {},
   "outputs": [],
   "source": []
  }
 ],
 "metadata": {
  "kernelspec": {
   "display_name": "Python 3 (ipykernel)",
   "language": "python",
   "name": "python3"
  },
  "language_info": {
   "codemirror_mode": {
    "name": "ipython",
    "version": 3
   },
   "file_extension": ".py",
   "mimetype": "text/x-python",
   "name": "python",
   "nbconvert_exporter": "python",
   "pygments_lexer": "ipython3",
   "version": "3.11.5"
  }
 },
 "nbformat": 4,
 "nbformat_minor": 5
}
